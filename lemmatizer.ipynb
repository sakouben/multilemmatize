{
 "cells": [
  {
   "cell_type": "code",
   "execution_count": 1,
   "id": "c0a03770",
   "metadata": {},
   "outputs": [],
   "source": [
    "import os"
   ]
  },
  {
   "cell_type": "code",
   "execution_count": 2,
   "id": "18f41a6e",
   "metadata": {
    "scrolled": false
   },
   "outputs": [
    {
     "name": "stdout",
     "output_type": "stream",
     "text": [
      "de-fic1.txt\n",
      "de-fic2.txt\n"
     ]
    }
   ],
   "source": [
    "def listdir_nohidden(path):\n",
    "    for f in os.listdir(path):\n",
    "        if not f.startswith('.'):\n",
    "            yield f\n",
    "            \n",
    "for x in listdir_nohidden(path='sources-DE/ss-ffs/'):\n",
    "    print(x)"
   ]
  },
  {
   "cell_type": "code",
   "execution_count": 13,
   "id": "a66248bd",
   "metadata": {},
   "outputs": [],
   "source": [
    "f = \"\"\n",
    "\n",
    "for x in listdir_nohidden(path='sources-JA/ss-ffs/'):\n",
    "    f += open(str('sources-JA/ss-ffs/' + x)).read()"
   ]
  },
  {
   "cell_type": "code",
   "execution_count": 14,
   "id": "bd40c65e",
   "metadata": {},
   "outputs": [],
   "source": [
    "corpus = f"
   ]
  },
  {
   "cell_type": "code",
   "execution_count": 3,
   "id": "1c0c1a95",
   "metadata": {},
   "outputs": [],
   "source": [
    "corpus = open(str('sources-DE/ss-ffs/de-fic2.txt'), 'r').read()"
   ]
  },
  {
   "cell_type": "code",
   "execution_count": 5,
   "id": "ea6ebe16",
   "metadata": {},
   "outputs": [],
   "source": [
    "import spacy\n",
    "import collections\n",
    "import textwrap\n",
    "\n",
    "def build_db(corpus, model, chunksize=-1):\n",
    "    doclist = []\n",
    "    if chunksize == -1:\n",
    "        doclist.append(model(corpus))\n",
    "    else:\n",
    "        z = textwrap.wrap(corpus, chunksize)\n",
    "        for x in z:\n",
    "            doclist.append(model(x))\n",
    "            print(len(doclist), \"/\", len(z))\n",
    "            \n",
    "    result = []\n",
    "    for x in doclist:\n",
    "        res = [y.lemma_ for y in x]\n",
    "        vocab_dict = collections.Counter(res)\n",
    "        result.append(vocab_dict)\n",
    "        \n",
    "    f = collections.Counter(result[0])\n",
    "    for x in result:\n",
    "        f += collections.Counter(x)\n",
    "        \n",
    "    vocab_dict = f\n",
    "    sorted_VD = dict(sorted(vocab_dict.items(), key=lambda x: int(x[1]), reverse=True))\n",
    "    \n",
    "    return sorted_VD"
   ]
  },
  {
   "cell_type": "code",
   "execution_count": 32,
   "id": "8db80ce8",
   "metadata": {
    "scrolled": false
   },
   "outputs": [
    {
     "ename": "OSError",
     "evalue": "[E050] Can't find model 'de_core_news_lg'. It doesn't seem to be a Python package or a valid path to a data directory.",
     "output_type": "error",
     "traceback": [
      "\u001b[0;31m---------------------------------------------------------------------------\u001b[0m",
      "\u001b[0;31mOSError\u001b[0m                                   Traceback (most recent call last)",
      "\u001b[0;32m/var/folders/68/7l2yjr4s33bf_30k7zvhq3r40000gn/T/ipykernel_77882/2614405318.py\u001b[0m in \u001b[0;36m<module>\u001b[0;34m\u001b[0m\n\u001b[0;32m----> 1\u001b[0;31m \u001b[0mde_f_db_2\u001b[0m \u001b[0;34m=\u001b[0m \u001b[0mbuild_db\u001b[0m\u001b[0;34m(\u001b[0m\u001b[0mcorpus\u001b[0m\u001b[0;34m=\u001b[0m\u001b[0mcorpus\u001b[0m\u001b[0;34m,\u001b[0m \u001b[0mmodel\u001b[0m\u001b[0;34m=\u001b[0m\u001b[0mspacy\u001b[0m\u001b[0;34m.\u001b[0m\u001b[0mload\u001b[0m\u001b[0;34m(\u001b[0m\u001b[0;34m'de_core_news_lg'\u001b[0m\u001b[0;34m)\u001b[0m\u001b[0;34m,\u001b[0m \u001b[0mchunksize\u001b[0m\u001b[0;34m=\u001b[0m\u001b[0;36m16000\u001b[0m\u001b[0;34m)\u001b[0m\u001b[0;34m\u001b[0m\u001b[0;34m\u001b[0m\u001b[0m\n\u001b[0m",
      "\u001b[0;32m~/opt/anaconda3/lib/python3.9/site-packages/spacy/__init__.py\u001b[0m in \u001b[0;36mload\u001b[0;34m(name, vocab, disable, enable, exclude, config)\u001b[0m\n\u001b[1;32m     49\u001b[0m     \u001b[0mRETURNS\u001b[0m \u001b[0;34m(\u001b[0m\u001b[0mLanguage\u001b[0m\u001b[0;34m)\u001b[0m\u001b[0;34m:\u001b[0m \u001b[0mThe\u001b[0m \u001b[0mloaded\u001b[0m \u001b[0mnlp\u001b[0m \u001b[0mobject\u001b[0m\u001b[0;34m.\u001b[0m\u001b[0;34m\u001b[0m\u001b[0;34m\u001b[0m\u001b[0m\n\u001b[1;32m     50\u001b[0m     \"\"\"\n\u001b[0;32m---> 51\u001b[0;31m     return util.load_model(\n\u001b[0m\u001b[1;32m     52\u001b[0m         \u001b[0mname\u001b[0m\u001b[0;34m,\u001b[0m\u001b[0;34m\u001b[0m\u001b[0;34m\u001b[0m\u001b[0m\n\u001b[1;32m     53\u001b[0m         \u001b[0mvocab\u001b[0m\u001b[0;34m=\u001b[0m\u001b[0mvocab\u001b[0m\u001b[0;34m,\u001b[0m\u001b[0;34m\u001b[0m\u001b[0;34m\u001b[0m\u001b[0m\n",
      "\u001b[0;32m~/opt/anaconda3/lib/python3.9/site-packages/spacy/util.py\u001b[0m in \u001b[0;36mload_model\u001b[0;34m(name, vocab, disable, enable, exclude, config)\u001b[0m\n\u001b[1;32m    470\u001b[0m     \u001b[0;32mif\u001b[0m \u001b[0mname\u001b[0m \u001b[0;32min\u001b[0m \u001b[0mOLD_MODEL_SHORTCUTS\u001b[0m\u001b[0;34m:\u001b[0m\u001b[0;34m\u001b[0m\u001b[0;34m\u001b[0m\u001b[0m\n\u001b[1;32m    471\u001b[0m         \u001b[0;32mraise\u001b[0m \u001b[0mIOError\u001b[0m\u001b[0;34m(\u001b[0m\u001b[0mErrors\u001b[0m\u001b[0;34m.\u001b[0m\u001b[0mE941\u001b[0m\u001b[0;34m.\u001b[0m\u001b[0mformat\u001b[0m\u001b[0;34m(\u001b[0m\u001b[0mname\u001b[0m\u001b[0;34m=\u001b[0m\u001b[0mname\u001b[0m\u001b[0;34m,\u001b[0m \u001b[0mfull\u001b[0m\u001b[0;34m=\u001b[0m\u001b[0mOLD_MODEL_SHORTCUTS\u001b[0m\u001b[0;34m[\u001b[0m\u001b[0mname\u001b[0m\u001b[0;34m]\u001b[0m\u001b[0;34m)\u001b[0m\u001b[0;34m)\u001b[0m  \u001b[0;31m# type: ignore[index]\u001b[0m\u001b[0;34m\u001b[0m\u001b[0;34m\u001b[0m\u001b[0m\n\u001b[0;32m--> 472\u001b[0;31m     \u001b[0;32mraise\u001b[0m \u001b[0mIOError\u001b[0m\u001b[0;34m(\u001b[0m\u001b[0mErrors\u001b[0m\u001b[0;34m.\u001b[0m\u001b[0mE050\u001b[0m\u001b[0;34m.\u001b[0m\u001b[0mformat\u001b[0m\u001b[0;34m(\u001b[0m\u001b[0mname\u001b[0m\u001b[0;34m=\u001b[0m\u001b[0mname\u001b[0m\u001b[0;34m)\u001b[0m\u001b[0;34m)\u001b[0m\u001b[0;34m\u001b[0m\u001b[0;34m\u001b[0m\u001b[0m\n\u001b[0m\u001b[1;32m    473\u001b[0m \u001b[0;34m\u001b[0m\u001b[0m\n\u001b[1;32m    474\u001b[0m \u001b[0;34m\u001b[0m\u001b[0m\n",
      "\u001b[0;31mOSError\u001b[0m: [E050] Can't find model 'de_core_news_lg'. It doesn't seem to be a Python package or a valid path to a data directory."
     ]
    }
   ],
   "source": [
    "de_f_db_2 = build_db(corpus=corpus, model=spacy.load('de_core_news_lg'), chunksize=16000)"
   ]
  },
  {
   "cell_type": "code",
   "execution_count": 66,
   "id": "6f3b9de4",
   "metadata": {
    "scrolled": true
   },
   "outputs": [],
   "source": [
    "de_db = build_db(corpus=open('sources-DE/books/blutbuch.txt').read(), model=spacy.load('de_core_news_md'))"
   ]
  },
  {
   "cell_type": "code",
   "execution_count": 70,
   "id": "50cb362e",
   "metadata": {},
   "outputs": [
    {
     "data": {
      "text/plain": [
       "173929"
      ]
     },
     "execution_count": 70,
     "metadata": {},
     "output_type": "execute_result"
    }
   ],
   "source": [
    "f = open(\"DB_JA/xv_db.txt\", \"w\")\n",
    "f.write(str(xv_db))\n",
    "\n",
    "g = open(\"DB_DE/de_db.txt\", \"w\")\n",
    "g.write(str(de_db))"
   ]
  },
  {
   "cell_type": "code",
   "execution_count": 31,
   "id": "9ca63251",
   "metadata": {},
   "outputs": [
    {
     "data": {
      "text/plain": [
       "22809"
      ]
     },
     "execution_count": 31,
     "metadata": {},
     "output_type": "execute_result"
    }
   ],
   "source": [
    "g = open(\"DB_DE/de_f_db_3.txt\", \"w\")\n",
    "g.write(str(de_f_db_2))"
   ]
  },
  {
   "cell_type": "code",
   "execution_count": null,
   "id": "1e6fa4c5",
   "metadata": {},
   "outputs": [],
   "source": []
  }
 ],
 "metadata": {
  "kernelspec": {
   "display_name": "Python 3 (ipykernel)",
   "language": "python",
   "name": "python3"
  },
  "language_info": {
   "codemirror_mode": {
    "name": "ipython",
    "version": 3
   },
   "file_extension": ".py",
   "mimetype": "text/x-python",
   "name": "python",
   "nbconvert_exporter": "python",
   "pygments_lexer": "ipython3",
   "version": "3.9.7"
  }
 },
 "nbformat": 4,
 "nbformat_minor": 5
}
